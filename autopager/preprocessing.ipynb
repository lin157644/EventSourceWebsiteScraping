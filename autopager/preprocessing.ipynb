{
 "cells": [
  {
   "cell_type": "markdown",
   "source": [
    "# HTML Downloader and Preprocessor"
   ],
   "metadata": {
    "pycharm": {
     "name": "#%% md\n"
    }
   }
  },
  {
   "cell_type": "code",
   "execution_count": 19,
   "source": [
    "import os\n",
    "import re\n",
    "import sys\n",
    "import requests\n",
    "import numpy as np\n",
    "import parsel\n",
    "import pathlib\n",
    "from urllib.parse import urlparse\n",
    "sys.path.insert(0, '..')\n",
    "from autopager.htmlutils import get_every_button_and_a\n",
    "from autopager.model import page_to_features"
   ],
   "outputs": [],
   "metadata": {
    "pycharm": {
     "name": "#%%\n"
    }
   }
  },
  {
   "cell_type": "code",
   "execution_count": 20,
   "source": [
    "from selenium.webdriver import Chrome\n",
    "from selenium.webdriver.chrome.options import Options\n",
    "from selenium.webdriver.chrome.service import Service\n",
    "from webdriver_manager.chrome import ChromeDriverManager\n",
    "import ssl\n",
    "WINDOW_SIZE = \"1920,1080\"\n",
    "\n",
    "options = Options()\n",
    "options.use_chromium = True\n",
    "options.add_experimental_option('excludeSwitches', ['enable-logging'])\n",
    "options.add_argument(f\"--window-size={WINDOW_SIZE}\")\n",
    "options.add_argument('--headless')\n",
    "options.add_argument('--no-sandbox')\n",
    "options.add_argument('--disable-dev-shm-usage')\n",
    "\n",
    "ssl._create_default_https_context = ssl._create_unverified_context"
   ],
   "outputs": [],
   "metadata": {
    "pycharm": {
     "name": "#%%\n"
    }
   }
  },
  {
   "cell_type": "code",
   "execution_count": 21,
   "source": [
    "import time"
   ],
   "outputs": [],
   "metadata": {
    "pycharm": {
     "name": "#%%\n"
    }
   }
  },
  {
   "cell_type": "code",
   "execution_count": 22,
   "source": [
    "DEFAULT_PROJECT_FOLDER = os.path.abspath('..')"
   ],
   "outputs": [],
   "metadata": {
    "pycharm": {
     "name": "#%%\n"
    }
   }
  },
  {
   "cell_type": "code",
   "execution_count": 23,
   "source": [
    "DEFAULT_PREDICT_FOLDER = os.path.abspath('..') + '/predict_folder'"
   ],
   "outputs": [],
   "metadata": {
    "pycharm": {
     "name": "#%%\n"
    }
   }
  },
  {
   "cell_type": "code",
   "execution_count": 24,
   "source": [
    "DEFAULT_MODEL_FOLDER = os.path.abspath('..') + '/models'"
   ],
   "outputs": [],
   "metadata": {
    "pycharm": {
     "name": "#%%\n"
    }
   }
  },
  {
   "cell_type": "code",
   "execution_count": 25,
   "source": [
    "IS_CONTAIN_BUTTON = True"
   ],
   "outputs": [],
   "metadata": {
    "pycharm": {
     "name": "#%%\n"
    }
   }
  },
  {
   "cell_type": "code",
   "execution_count": 26,
   "source": [
    "NB_TO_PY = True"
   ],
   "outputs": [],
   "metadata": {
    "pycharm": {
     "name": "#%%\n"
    }
   }
  },
  {
   "cell_type": "code",
   "execution_count": 27,
   "source": [
    "SCROLL_PAUSE_TIME = 1"
   ],
   "outputs": [],
   "metadata": {
    "pycharm": {
     "name": "#%%\n"
    }
   }
  },
  {
   "cell_type": "code",
   "execution_count": 28,
   "source": [
    "def _scrollToButtom(driver):\n",
    "    driver.execute_script(\"window.scrollTo(0, document.body.scrollHeight);\")"
   ],
   "outputs": [],
   "metadata": {
    "pycharm": {
     "name": "#%%\n"
    }
   }
  },
  {
   "cell_type": "code",
   "execution_count": 29,
   "source": [
    "def _get_html_from_selenium(url):\n",
    "    browser = Chrome(service=Service(ChromeDriverManager().install()), options=options)\n",
    "    browser.implicitly_wait(10)\n",
    "    browser.set_page_load_timeout(30)\n",
    "    # 在瀏覽器打上網址連入\n",
    "    browser.get(url)\n",
    "    _scrollToButtom(browser)\n",
    "    time.sleep(SCROLL_PAUSE_TIME)\n",
    "    html = browser.page_source\n",
    "    browser.quit()\n",
    "    return html\n"
   ],
   "outputs": [],
   "metadata": {
    "pycharm": {
     "name": "#%%\n"
    }
   }
  },
  {
   "cell_type": "code",
   "execution_count": 30,
   "source": [
    "def generate_page_component(url):\n",
    "    html = _get_html_from_selenium(url)\n",
    "    url_obj = urlparse(url)\n",
    "    return {\n",
    "        \"html\": html,\n",
    "        \"parseObj\": url_obj,\n",
    "    }"
   ],
   "outputs": [],
   "metadata": {
    "pycharm": {
     "name": "#%%\n"
    }
   }
  },
  {
   "cell_type": "code",
   "execution_count": 31,
   "source": [
    "def get_selectors_from_file(html):\n",
    "    sel = parsel.Selector(html)\n",
    "    links = get_every_button_and_a(sel)\n",
    "    xseq = page_to_features(links)\n",
    "    return xseq"
   ],
   "outputs": [],
   "metadata": {
    "pycharm": {
     "name": "#%%\n"
    }
   }
  },
  {
   "cell_type": "code",
   "execution_count": 32,
   "source": [
    "if __name__ == '__main__':\n",
    "    # _get_html_from_selenium(\"http://www.google.com\")\n",
    "\n",
    "    # If NB_TO_PY is true, than we convert this book to .py file\n",
    "    if NB_TO_PY:\n",
    "        !jupyter nbconvert --to script preprocessing.ipynb\n",
    "    else:\n",
    "        test_url = \"https://kktix.com/events\"\n",
    "        page = generate_page_component(test_url)\n",
    "        xseq = get_selectors_from_file(page[\"html\"])\n",
    "        print(xseq[:5])"
   ],
   "outputs": [
    {
     "name": "stderr",
     "output_type": "stream",
     "text": [
      "[NbConvertApp] Converting notebook preprocessing.ipynb to script\n",
      "[NbConvertApp] Writing 2627 bytes to preprocessing.py\n"
     ]
    }
   ],
   "metadata": {
    "pycharm": {
     "name": "#%%\n"
    }
   }
  }
 ],
 "metadata": {
  "kernelspec": {
   "name": "python3",
   "display_name": "Python 3.6.13 64-bit ('pagination': conda)"
  },
  "language_info": {
   "codemirror_mode": {
    "name": "ipython",
    "version": 3
   },
   "file_extension": ".py",
   "mimetype": "text/x-python",
   "name": "python",
   "nbconvert_exporter": "python",
   "pygments_lexer": "ipython3",
   "version": "3.6.13"
  },
  "interpreter": {
   "hash": "cce42305a5cf0d35621b0929d2a15fd9555f5bbfac64b3eafbb381f39fcbbcdd"
  }
 },
 "nbformat": 4,
 "nbformat_minor": 4
}