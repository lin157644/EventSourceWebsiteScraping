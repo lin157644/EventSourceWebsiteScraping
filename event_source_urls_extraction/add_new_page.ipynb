{
 "cells": [
  {
   "cell_type": "code",
   "execution_count": 1,
   "metadata": {
    "collapsed": true
   },
   "outputs": [],
   "source": [
    "import pandas as pd\n",
    "import validators\n",
    "from utils.load_env import RABBIT_ACCOUNT, RABBIT_PASSWORD, RABBIT_HOST, RABBIT_PORT, SOURCE_QUEUE\n",
    "from utils.pika_queue import PikaQueue"
   ]
  },
  {
   "cell_type": "code",
   "execution_count": 2,
   "outputs": [
    {
     "data": {
      "text/plain": "'CandidateEventSourcePageURL'"
     },
     "execution_count": 2,
     "metadata": {},
     "output_type": "execute_result"
    }
   ],
   "source": [
    "source_queue= PikaQueue(RABBIT_HOST, RABBIT_PORT, RABBIT_ACCOUNT, RABBIT_PASSWORD)\n",
    "SOURCE_QUEUE"
   ],
   "metadata": {
    "collapsed": false
   }
  },
  {
   "cell_type": "markdown",
   "source": [
    "### Load import URLs file"
   ],
   "metadata": {
    "collapsed": false
   }
  },
  {
   "cell_type": "code",
   "execution_count": 3,
   "outputs": [
    {
     "name": "stdout",
     "output_type": "stream",
     "text": [
      "Event Source URLs Length: 10061\n"
     ]
    }
   ],
   "source": [
    "URLS_LIMIT = 0 # no limit when set to zero\n",
    "\n",
    "event_source_df = pd.read_csv(\"CandidateEventSourcePageDomainURL_20220212_1043.csv\")\n",
    "urls = event_source_df['websites'].values.tolist()\n",
    "if URLS_LIMIT > 0:\n",
    "    urls = urls[:URLS_LIMIT]\n",
    "\n",
    "print(\"Event Source URLs Length:\", len(urls))\n",
    "# urls"
   ],
   "metadata": {
    "collapsed": false
   }
  },
  {
   "cell_type": "markdown",
   "source": [
    "### Add URLs to Queue"
   ],
   "metadata": {
    "collapsed": false
   }
  },
  {
   "cell_type": "code",
   "execution_count": 4,
   "outputs": [
    {
     "data": {
      "text/plain": "'2022-12-22 16:37:15'"
     },
     "execution_count": 4,
     "metadata": {},
     "output_type": "execute_result"
    }
   ],
   "source": [
    "from datetime import datetime\n",
    "datetime.now().strftime(\"%Y-%m-%d %H:%M:%S\")"
   ],
   "metadata": {
    "collapsed": false
   }
  },
  {
   "cell_type": "code",
   "execution_count": 5,
   "outputs": [
    {
     "name": "stdout",
     "output_type": "stream",
     "text": [
      "Adding urls to source_queue...\n",
      "Invalid url: #https://foodintainan.com.tw ## Too many anchor\n",
      "Finish adding url to source_queue...\n"
     ]
    }
   ],
   "source": [
    "print(\"Adding urls to source_queue...\")\n",
    "for url in urls:\n",
    "    if validators.url(url):\n",
    "        source_queue.AddToQueue(SOURCE_QUEUE, url)\n",
    "    else:\n",
    "        print(\"Invalid url:\", url)\n",
    "\n",
    "print(\"Finish adding url to source_queue...\")"
   ],
   "metadata": {
    "collapsed": false
   }
  },
  {
   "cell_type": "code",
   "execution_count": 6,
   "outputs": [],
   "source": [
    "source_queue.Close()"
   ],
   "metadata": {
    "collapsed": false
   }
  },
  {
   "cell_type": "code",
   "execution_count": 6,
   "outputs": [],
   "source": [],
   "metadata": {
    "collapsed": false
   }
  }
 ],
 "metadata": {
  "kernelspec": {
   "display_name": "Python 3",
   "language": "python",
   "name": "python3"
  },
  "language_info": {
   "codemirror_mode": {
    "name": "ipython",
    "version": 2
   },
   "file_extension": ".py",
   "mimetype": "text/x-python",
   "name": "python",
   "nbconvert_exporter": "python",
   "pygments_lexer": "ipython2",
   "version": "2.7.6"
  }
 },
 "nbformat": 4,
 "nbformat_minor": 0
}